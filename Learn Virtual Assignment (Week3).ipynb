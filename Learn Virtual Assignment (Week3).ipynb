{
 "cells": [
  {
   "cell_type": "markdown",
   "metadata": {},
   "source": [
    "# ATM Program\n"
   ]
  },
  {
   "cell_type": "code",
   "execution_count": null,
   "metadata": {},
   "outputs": [],
   "source": [
    "Account_Balance = 20000\n",
    "print('Please Insert your card')\n",
    "print('Goodday, Welcome to Access Bank')\n",
    "pin = (int(input(\"Enter your pin: \")))\n",
    "Language = input('Select a Language: \\n(a) Yoruba \\n(b) English \\n(c) Hausa \\n(d) Igbo\\n')\n",
    "Transaction = input('What Transaction would you like to perform? \\n(a) Cash Withdrawal \\n(b) Cash Deposit \\n(c) Funds Transfer \\n(d) Balance Enquiry \\n(e)Airtime Purchase\\n')\n",
    "Account_Type = input('Select account type? \\n(a) Savings \\n(b) Current\\n')\n",
    "Receipt = input('Would you like a receipt for this transaction? \\n(a) Yes \\n(b) No\\n')\n",
    "Amount = ('Select an amount to withdraw: \\n(a) 1,000 \\n(b) 5,000 \\n(c) 10,000 \\n(d) 20,000 \\n(e) Other Amount\\n')\n",
    "if (Transaction.lower() == 'a'):\n",
    "    Amount = input('Select an amount to withdraw: \\n(a) 1,000 \\n(b) 5,000 \\n(c) 10,000 \\n(d) 20,000 \\n(e) Other Amount\\n')\n",
    "    if Amount == 'a' or Amount == 'b' or Amount == 'c' or Amount == 'd':\n",
    "        print('Please wait while your transaction is processing.......')\n",
    "        print('Cash retract is not availiable at this ATM')\n",
    "        print('Take your cash')\n",
    "        print('Thank you for choosing Access Bank')\n",
    "                    \n",
    "    else:\n",
    "        print()\n",
    "        other_amount = (int(input('Enter amount to withdraw:')))\n",
    "        if other_amount <= Account_Balance:\n",
    "            print('Please wait while your transaction is processing.......')\n",
    "            print('Cash retract is not enabled on this ATM')\n",
    "            print('Please take your cash')\n",
    "            print('Thank you for choosing Access Bank')      \n",
    "\n",
    "        elif other_amount > Account_Balance:\n",
    "            print('Insufficent Funds')\n",
    "            print('Thank you for choosing Access Bank')\n",
    "\n",
    "elif(Transaction.lower() == 'b'):\n",
    "    print('Cash Retract is not enabled on this ATM')\n",
    "    print('Thank you for choosing Access Bank')\n",
    "\n",
    "\n",
    "elif(Transaction.lower() == 'c'):\n",
    "    Transfer = input('Select Bank of Recepient \\n(a) GTBank \\n(b) Zenith Bank \\n(c) Ecobank \\n(d) FCMB\\n ')\n",
    "    Account_Number = int(input('Enter Recepient NUBAN:'))\n",
    "    Amount_to_transfer = int(input('Amount to transfer:'))\n",
    "    if Amount_to_transfer <= Account_Balance:\n",
    "        print('Please wait while your transaction is processing.......')\n",
    "        print('Transfer Successful')\n",
    "    elif Amount_to_transfer > Account_Balance:\n",
    "        print('Insufficient Funds')\n",
    "    \n",
    "\n",
    "elif(Transaction.lower() == 'd'):\n",
    "    print(input(Account_Type))\n",
    "    print('Please wait while your transaction is processing')\n",
    "    print('Ledger Balance = ',  (Account_Balance))\n",
    "    print('Thank you for choosing Access Bank')\n",
    "\n",
    "elif(Transaction.lower() == 'e'):\n",
    "    Airtime = input('\\n(a) Airtime self \\n(b) Airtime others\\n')\n",
    "    print(Airtime)\n",
    "    if (Airtime.lower() == 'a'):\n",
    "        print(input(\"Select Amount to Recharge \\n(a) 1000 \\n(b) 3000 \\n(c) 5000 \\n(d) 10000\\n\"))\n",
    "        print('Please wait while your transaction is processing')\n",
    "        print('Recharge Successful')\n",
    "        print('Thank you for choosing Access Bank')\n",
    "\n",
    "    if (Airtime.lower() == 'b'):\n",
    "        print(input('Recepient Phone number'))\n",
    "        print(input(\"Select Recepient Network: \\n(a) Airtel \\n(b) MTN \\n(c) GLO \\n(d) Airtel\\n\"))\n",
    "        print(input(\"Select Amount to Recharge \\n(a) 1000 \\n(b)3000 \\n(c) 5000 \\n(d)10000\\n\"))\n",
    "        print('Please wait while your transaction is processing')\n",
    "        print('Transfer Sucessful')\n",
    "        print('Thank you for choosing Access Bank')"
   ]
  },
  {
   "cell_type": "markdown",
   "metadata": {},
   "source": [
    "# Simple Interest"
   ]
  },
  {
   "cell_type": "code",
   "execution_count": null,
   "metadata": {},
   "outputs": [],
   "source": [
    "#S.I = PTR/100\n",
    "Principal = int(input('Please enter principal: '))\n",
    "Rate = float(input('Enter rate: '))\n",
    "Time = int(input('Please enter the given time: '))\n",
    "SI = (Principal*Rate*Time)/100\n",
    "print('Simple Interst is ' +\"NGN\" +str(int(SI)))"
   ]
  },
  {
   "cell_type": "markdown",
   "metadata": {},
   "source": [
    "# Area of a Parallelogram"
   ]
  },
  {
   "cell_type": "code",
   "execution_count": null,
   "metadata": {},
   "outputs": [],
   "source": [
    "#Area of a Parallelogram\n",
    "#Area = b*h\n",
    "b = int(input('Enter base value: '))\n",
    "h = int(input('Enter height: '))\n",
    "Area = b*h\n",
    "print(\"The Area of the Parallelogram is  \" + str(int(Area)))"
   ]
  },
  {
   "cell_type": "markdown",
   "metadata": {},
   "source": [
    "# Resturant Menu"
   ]
  },
  {
   "cell_type": "code",
   "execution_count": null,
   "metadata": {},
   "outputs": [],
   "source": [
    "print(\"Hi there, I'm name is Toluwanimi of thekitichen.com.ng\")\n",
    "Name = input('May i know your name: ')\n",
    "print(\"Hi \" + Name + \" welcome to Thekitchen.com.ng!, What would you like to eat today?\")\n",
    "print('We have an array of price friendly yet irresistable and tantalizing dishes that will leave you wanting more!!')\n",
    "print(\"Please see below our mouthwatering menu, each of our meals come with a drink\")\n",
    "TKN_Menu = input('\\n(a) Plain Rice and Beef - NGN1,199 \\n(b) Fried Rice and Chicken - NGN1,199 \\n(c) Plantain and Fried Egg - NGN1,199 \\n(d) Eba Vegetable and Beef - NGN1,499 \\n(e) none of the above\\n')\n",
    "Note = (\"Please make payments. Thank you for your order! Enjoy your meal\")\n",
    "if(TKN_Menu.lower() == 'a'):\n",
    "    print('Great Choice!! ' + Note )\n",
    "elif(TKN_Menu.lower() == 'b'):\n",
    "    print(\"You'll love it \" + Note )\n",
    "elif(TKN_Menu.lower() == 'c'):\n",
    "    print('Delicious! ' + Note)\n",
    "elif(TKN_Menu.lower() =='d'):\n",
    "    print(\"You've got taste \" + Note )\n",
    "else:\n",
    "    print('Cant see the food you need? Trust us we have it! Just contact us now through our live chat or send your order via whastapp to 08012345678.')\n"
   ]
  },
  {
   "cell_type": "markdown",
   "metadata": {},
   "source": [
    "# For Loop"
   ]
  },
  {
   "cell_type": "code",
   "execution_count": null,
   "metadata": {},
   "outputs": [],
   "source": [
    "a = [1, 1, 2, 3, 5, 8, 13, 21, 34, 55, 89]\n",
    "num = []\n",
    "for i in a:\n",
    "    if i <= 5:\n",
    "        num.append(i)\n",
    "print(num)"
   ]
  },
  {
   "cell_type": "markdown",
   "metadata": {},
   "source": [
    "# Daily Activity"
   ]
  },
  {
   "cell_type": "code",
   "execution_count": null,
   "metadata": {},
   "outputs": [],
   "source": [
    "weekday = ['Monday','Tuesday','Wednesday','Thursday','Friday']\n",
    "weekend = ['Saturday', 'Sunday']\n",
    "day = input('What day is it today?')\n",
    "if day in weekday:\n",
    "    print('Wake up or be late for work')\n",
    "else:\n",
    "    print('Wake up and do your chores, you can sleep later')"
   ]
  }
 ],
 "metadata": {
  "kernelspec": {
   "display_name": "Python 3",
   "language": "python",
   "name": "python3"
  },
  "language_info": {
   "codemirror_mode": {
    "name": "ipython",
    "version": 3
   },
   "file_extension": ".py",
   "mimetype": "text/x-python",
   "name": "python",
   "nbconvert_exporter": "python",
   "pygments_lexer": "ipython3",
   "version": "3.7.6"
  }
 },
 "nbformat": 4,
 "nbformat_minor": 4
}
