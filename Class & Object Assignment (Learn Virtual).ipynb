{
 "cells": [
  {
   "cell_type": "markdown",
   "metadata": {},
   "source": [
    "# Class and Object Assignment\n"
   ]
  },
  {
   "cell_type": "markdown",
   "metadata": {},
   "source": [
    "Planet\n"
   ]
  },
  {
   "cell_type": "code",
   "execution_count": 105,
   "metadata": {},
   "outputs": [],
   "source": [
    "class Planets():\n",
    "    def __init__(self,Name,Type,Distance,Gravity):\n",
    "        self.Name = Name\n",
    "        self.Type = Type\n",
    "        self.Distance = Distance\n",
    "        self.Gravity = Gravity\n",
    "        \n",
    "    def describe_planet(self):\n",
    "        print(f\"This is {self.Name} a {self.Type} planet, it's distance from the sun is {self.Distance} (km). The surface gravity of {self.Name} is only about {self.Gravity} of the surface gravity on earth.\")\n",
    "        \n",
    "    \n",
    "    "
   ]
  },
  {
   "cell_type": "code",
   "execution_count": 106,
   "metadata": {},
   "outputs": [],
   "source": [
    "Mercury = Planets('Mercury', 'terrestial', '57.91 million', '38%')\n",
    "Venus = Planets('Venus', 'terrestial', '107.9 million', '91%' )\n",
    "Mars = Planets('Mars', 'terrestial', '216.87 milliom', '38%')\n",
    "Jupiter = Planets('Jupiter', 'giant gas', '775.9 million', '2.5 times' )\n",
    "Saturn = Planets('Saturn', 'giant gas','1.4963 billion', '107%')\n",
    "Uranus = Planets('Uranus', 'giant ice', '2.9626 billion', '86%')\n",
    "Neptune = Planets('Neptune', 'giant ice', '4.4768 billion', '110%')"
   ]
  },
  {
   "cell_type": "code",
   "execution_count": 107,
   "metadata": {},
   "outputs": [
    {
     "name": "stdout",
     "output_type": "stream",
     "text": [
      "This is Neptune a giant ice planet, it's distance from the sun is 4.4768 billion (km). The surface gravity of Neptune is only about 110% of the surface gravity on earth.\n",
      "This is Mercury a terrestial planet, it's distance from the sun is 57.91 million (km). The surface gravity of Mercury is only about 38% of the surface gravity on earth.\n",
      "This is Venus a terrestial planet, it's distance from the sun is 107.9 million (km). The surface gravity of Venus is only about 91% of the surface gravity on earth.\n",
      "This is Mars a terrestial planet, it's distance from the sun is 216.87 milliom (km). The surface gravity of Mars is only about 38% of the surface gravity on earth.\n",
      "This is Jupiter a giant gas planet, it's distance from the sun is 775.9 million (km). The surface gravity of Jupiter is only about 2.5 times of the surface gravity on earth.\n",
      "This is Saturn a giant gas planet, it's distance from the sun is 1.4963 billion (km). The surface gravity of Saturn is only about 107% of the surface gravity on earth.\n",
      "This is Uranus a giant ice planet, it's distance from the sun is 2.9626 billion (km). The surface gravity of Uranus is only about 86% of the surface gravity on earth.\n"
     ]
    }
   ],
   "source": [
    "Neptune.describe_planet()\n",
    "Mercury.describe_planet()\n",
    "Venus.describe_planet()\n",
    "Mars.describe_planet()\n",
    "Jupiter.describe_planet()\n",
    "Saturn.describe_planet()\n",
    "Uranus.describe_planet()"
   ]
  },
  {
   "cell_type": "markdown",
   "metadata": {},
   "source": [
    "Bank Customers & Bank Accounts\n"
   ]
  },
  {
   "cell_type": "code",
   "execution_count": 108,
   "metadata": {},
   "outputs": [],
   "source": [
    "class Bank_Customer():\n",
    "    def __init__(self,BankName,FirstName,LastName):\n",
    "        self.BankName = BankName\n",
    "        self.FirstName = FirstName\n",
    "        self.LastName = LastName\n",
    "        print(f\"{self.FirstName} {self.LastName} is a customer of {BankName} Bank\")\n",
    "        \n",
    "class Bank_Account():\n",
    "    def __init__(self, customer, balance,Account_type):\n",
    "        self.Account_type = Account_type\n",
    "        self.customer = customer\n",
    "        self.balance = balance\n",
    "    def details(self):\n",
    "        print(f\"{self.customer} has a {self.Account_type} with an account balance of {self.balance}\")\n"
   ]
  },
  {
   "cell_type": "code",
   "execution_count": 109,
   "metadata": {},
   "outputs": [
    {
     "name": "stdout",
     "output_type": "stream",
     "text": [
      "Olu Jacobs is a customer of Providus Bank\n",
      "Ade Williams is a customer of Providus Bank\n"
     ]
    }
   ],
   "source": [
    "Customer1 = Bank_Customer('Providus','Olu', 'Jacobs')\n",
    "Customer2 = Bank_Customer('Providus','Ade', 'Williams')"
   ]
  },
  {
   "cell_type": "code",
   "execution_count": 110,
   "metadata": {},
   "outputs": [],
   "source": [
    "Customer1 = Bank_Account('Olu Jacobs', 'Savings', '500,000')\n",
    "Customer2 = Bank_Account('Olu Jacobs', 'Current', '100,000')"
   ]
  },
  {
   "cell_type": "code",
   "execution_count": 104,
   "metadata": {},
   "outputs": [
    {
     "name": "stdout",
     "output_type": "stream",
     "text": [
      "Olu Jacobs has a 500,000 with an account balance of Savings\n",
      "Olu Jacobs has a 100,000 with an account balance of Current\n"
     ]
    }
   ],
   "source": [
    "Customer1.details()\n",
    "Customer2.details()"
   ]
  }
 ],
 "metadata": {
  "kernelspec": {
   "display_name": "Python 3",
   "language": "python",
   "name": "python3"
  },
  "language_info": {
   "codemirror_mode": {
    "name": "ipython",
    "version": 3
   },
   "file_extension": ".py",
   "mimetype": "text/x-python",
   "name": "python",
   "nbconvert_exporter": "python",
   "pygments_lexer": "ipython3",
   "version": "3.7.6"
  }
 },
 "nbformat": 4,
 "nbformat_minor": 4
}
